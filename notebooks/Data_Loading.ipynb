{
 "cells": [
  {
   "cell_type": "markdown",
   "id": "8bb32310",
   "metadata": {},
   "source": [
    "## import libraries"
   ]
  },
  {
   "cell_type": "code",
   "execution_count": 1,
   "id": "f111f01a",
   "metadata": {},
   "outputs": [],
   "source": [
    "import yfinance as yf\n",
    "import pandas as pd\n",
    "import numpy as np\n",
    "import matplotlib.pyplot as plt\n",
    "import seaborn as sns\n",
    "from statsmodels.tsa.stattools import adfuller"
   ]
  },
  {
   "cell_type": "markdown",
   "id": "d5e4e06b",
   "metadata": {},
   "source": [
    "## Data Loading "
   ]
  },
  {
   "cell_type": "code",
   "execution_count": null,
   "id": "2aa6a6a7",
   "metadata": {},
   "outputs": [
    {
     "name": "stderr",
     "output_type": "stream",
     "text": [
      "/tmp/ipykernel_54495/3213831329.py:7: FutureWarning: YF.download() has changed argument auto_adjust default to True\n",
      "  raw_data = yf.download(tickers, start=start_date, end=end_date)\n",
      "Failed to get ticker 'SPY' reason: Failed to perform, curl: (60) SSL certificate problem: certificate is not yet valid. See https://curl.se/libcurl/c/libcurl-errors.html first for more details.\n",
      "Failed to get ticker 'BND' reason: Failed to perform, curl: (60) SSL certificate problem: certificate is not yet valid. See https://curl.se/libcurl/c/libcurl-errors.html first for more details.\n",
      "[                       0%                       ]Failed to get ticker 'TSLA' reason: Failed to perform, curl: (60) SSL certificate problem: certificate is not yet valid. See https://curl.se/libcurl/c/libcurl-errors.html first for more details.\n",
      "[*********************100%***********************]  2 of 3 completed\n",
      "\n",
      "3 Failed downloads:\n",
      "['SPY', 'BND', 'TSLA']: YFTzMissingError('possibly delisted; no timezone found')\n"
     ]
    },
    {
     "name": "stdout",
     "output_type": "stream",
     "text": [
      "Data fetched successfully!\n",
      "Read CSV with header=[0, 1, 2]\n",
      "Adj Close extraction complete. Columns: [\"('ADJ CLOSE', 'BND', 'UNNAMED: 1_LEVEL_2')\", \"('ADJ CLOSE', 'SPY', 'UNNAMED: 2_LEVEL_2')\", \"('ADJ CLOSE', 'TSLA', 'UNNAMED: 3_LEVEL_2')\", \"('CLOSE', 'BND', 'UNNAMED: 4_LEVEL_2')\", \"('CLOSE', 'SPY', 'UNNAMED: 5_LEVEL_2')\", \"('CLOSE', 'TSLA', 'UNNAMED: 6_LEVEL_2')\"]\n"
     ]
    }
   ],
   "source": [
    "tickers = ['TSLA', 'BND', 'SPY']\n",
    "start_date = '2015-07-01'\n",
    "end_date = '2025-07-31'\n",
    "\n",
    "try:\n",
    "    raw_data = yf.download(tickers, start=start_date, end=end_date)\n",
    "    print('Data fetched successfully!')\n",
    "except Exception as e:\n",
    "    print(f'Error fetching data: {e}')\n",
    "    raise\n",
    "\n",
    "raw_data.to_csv('financial_data.csv')\n",
    "\n",
    "df = None\n",
    "for header_try in ([0,1,2], [0,1], [0]):\n",
    "    try:\n",
    "        df = pd.read_csv('financial_data.csv', index_col=0, parse_dates=True, header=header_try)\n",
    "        print(f'Read CSV with header={header_try}')\n",
    "        break\n",
    "    except Exception:\n",
    "        df = None\n",
    "\n",
    "if df is None:\n",
    "    print('Falling back to read without headers')\n",
    "    df = pd.read_csv('financial_data.csv', header=None)\n",
    "\n",
    "prefs = ['adj close', 'adj', 'adjusted', 'close', 'price']\n",
    "\n",
    "def flatten_col(col):\n",
    "    if isinstance(col, tuple):\n",
    "        parts = [str(x) for x in col if (x is not None and str(x).strip() != '')]\n",
    "        return ' '.join(parts).lower()\n",
    "    return str(col).lower()\n",
    "\n",
    "adj = None\n",
    "\n",
    "if isinstance(df.columns, pd.MultiIndex):\n",
    "    candidates = [col for col in df.columns if any(tok in flatten_col(col) for tok in prefs)]\n",
    "    if candidates:\n",
    "        adj = df[candidates]\n",
    "    else:\n",
    "        ticker_map = {}\n",
    "        for t in tickers:\n",
    "            matches = [col for col in df.columns if any(str(x).upper() == t.upper() for x in col)]\n",
    "            if matches:\n",
    "                chosen = None\n",
    "                for m in matches:\n",
    "                    if any(tok in flatten_col(m) for tok in ['close','price','adj']):\n",
    "                        chosen = m\n",
    "                        break\n",
    "                if chosen is None:\n",
    "                    chosen = matches[0]\n",
    "                ticker_map[t.upper()] = chosen\n",
    "\n",
    "\n",
    "        if ticker_map:\n",
    "            adj = df[list(ticker_map.values())]\n",
    "            adj.columns = [k for k in ticker_map.keys()]\n",
    "        else:\n",
    "            top_level = [str(x).lower() for x in df.columns.levels[0]]\n",
    "            fallback_tokens = ['close', 'price']\n",
    "            if any(tok in ' '.join(top_level) for tok in fallback_tokens):\n",
    "                candidates = [col for col in df.columns if str(col[0]).lower() in fallback_tokens]\n",
    "                if candidates:\n",
    "                    adj = df[candidates]\n",
    "\n",
    "    if adj is None:\n",
    "        raise KeyError(\"Couldn't locate 'Adj Close' or any close-like field in the downloaded data columns\")\n",
    "\n",
    "else:\n",
    "    cols = list(df.columns)\n",
    "    candidates = [c for c in cols if any(tok in str(c).lower() for tok in prefs)]\n",
    "    if candidates:\n",
    "        adj = df[candidates]\n",
    "        \n",
    "    else:\n",
    "        if any(str(c).upper() in [t.upper() for t in tickers] for c in cols):\n",
    "            adj = df[[c for c in cols if str(c).upper() in [t.upper() for t in tickers]]]\n",
    "        else:\n",
    "            adj = df\n",
    "\n",
    "if isinstance(adj, pd.Series):\n",
    "    adj = adj.to_frame()\n",
    "\n",
    "adj.columns = [str(c).upper() for c in adj.columns]\n",
    "requested = [t.upper() for t in tickers]\n",
    "available = [c for c in requested if c in adj.columns]\n",
    "if not available and len(adj.columns) > 0:\n",
    "    available = list(adj.columns)\n",
    "\n",
    "adj = adj.reindex(columns=available)\n",
    "adj.to_csv('adj_close.csv')\n",
    "\n",
    "data = adj\n",
    "print('Adj Close extraction complete. Columns:', list(data.columns))"
   ]
  }
 ],
 "metadata": {
  "kernelspec": {
   "display_name": ".venv",
   "language": "python",
   "name": "python3"
  },
  "language_info": {
   "codemirror_mode": {
    "name": "ipython",
    "version": 3
   },
   "file_extension": ".py",
   "mimetype": "text/x-python",
   "name": "python",
   "nbconvert_exporter": "python",
   "pygments_lexer": "ipython3",
   "version": "3.12.3"
  }
 },
 "nbformat": 4,
 "nbformat_minor": 5
}
